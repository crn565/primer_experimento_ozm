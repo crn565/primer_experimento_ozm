{
 "cells": [
  {
   "cell_type": "markdown",
   "metadata": {},
   "source": [
    "# Conversión de  datos a formato NILMTK y carga en NILMTK"
   ]
  },
  {
   "cell_type": "markdown",
   "metadata": {},
   "source": [
    "NILMTK utiliza un formato de archivo abierto basado en el formato de archivo binario HDF5 para almacenar tanto los datos de energía como los metadatos. El primer paso al usar NILMTK es convertir su conjunto de datos al formato de archivo NILMTK HDF5"
   ]
  },
  {
   "cell_type": "markdown",
   "metadata": {},
   "source": [
    "**NOTA**: Si está en Windows, recuerde evitar las barras diagonales inversas, usar barras inclinadas hacia adelante o usar cadenas sin formato al pasar rutas en Python, p. Ej. uno de los siguientes funcionaría:\n",
    "\n",
    "```python\n",
    "convert_redd('c:\\\\data\\\\REDD\\\\low_freq', r'c:\\\\data\\\\redd.h5')\n",
    "convert_redd('c:/data/REDD/low_freq', 'c:/data/redd.h5')\n",
    "convert_redd(r'c:\\data\\REDD\\low_freq', r'c:\\data\\redd.h5')\n",
    "```"
   ]
  },
  {
   "cell_type": "markdown",
   "metadata": {},
   "source": [
    "## DSUALM"
   ]
  },
  {
   "cell_type": "markdown",
   "metadata": {},
   "source": [
    "Convertir el conjunto de datos DSUALM es fácil"
   ]
  },
  {
   "cell_type": "code",
   "execution_count": 1,
   "metadata": {},
   "outputs": [
    {
     "name": "stdout",
     "output_type": "stream",
     "text": [
      "Path ualm: ./data/ozm/ /electricity\n",
      "..Cargando   1\n",
      "Fichero  1 cargado ok\n",
      "..Cargando   2\n",
      "Fichero  2 cargado ok\n",
      "..Cargando   3\n",
      "Fichero  3 cargado ok\n",
      "..Cargando   4\n",
      "Fichero  4 cargado ok\n",
      "..Cargando   5\n",
      "Fichero  5 cargado ok\n",
      "..Cargando   6\n",
      "Fichero  6 cargado ok\n",
      "..Cargando   7\n",
      "Fichero  7 cargado ok\n",
      "Uniendo  Medadata\n",
      "Done converting YAML metadata to HDF5!\n",
      "Realizada con exito la conversion de ualM al formato  HDF5!\n"
     ]
    }
   ],
   "source": [
    "from nilmtk.dataset_converters import convert_ualm\n",
    "convert_ualm('./data/ozm/', 'dsual.h5')"
   ]
  },
  {
   "cell_type": "markdown",
   "metadata": {},
   "source": [
    "Ahora redd.h5 contiene todos los datos de energía de REDD y todos los metadatos relevantes. En NILMTK v0.2, esta conversión solo usa una pequeña fracción de la memoria del sistema (a diferencia de NILMTK v0.1, que consumiría ~ 1 GByte de RAM solo para realizar la conversión del conjunto de datos).\n",
    "\n",
    "Por supuesto, si desea ejecutar convert_redd en su propia máquina, primero debe descargar [REDD](http://redd.csail.mit.edu), descomprimirlo y pasar el source_directory y el output_filename relevantes a convert_redd "
   ]
  },
  {
   "cell_type": "markdown",
   "metadata": {},
   "source": [
    "## Otros datasets"
   ]
  },
  {
   "cell_type": "markdown",
   "metadata": {},
   "source": [
    "En el momento de escribir, [NILMTK contains converters for 8 datasets](https://github.com/nilmtk/nilmtk/tree/master/nilmtk/dataset_converters).\n",
    "\n",
    "¡Contribuir con un nuevo convertidor es fácil y muy recomendable!  [Learn how to write a dataset converter](https://github.com/nilmtk/nilmtk/blob/master/docs/manual/development_guide/writing_a_dataset_converter.md)."
   ]
  },
  {
   "cell_type": "markdown",
   "metadata": {},
   "source": [
    "## Abrir  HDF5 en NILMTK"
   ]
  },
  {
   "cell_type": "code",
   "execution_count": 2,
   "metadata": {
    "scrolled": false
   },
   "outputs": [],
   "source": [
    "from nilmtk import DataSet\n",
    "from nilmtk.utils import print_dict\n",
    "\n",
    "#dataset de referencia REDD\n",
    "redd = DataSet('dsual.h5')"
   ]
  },
  {
   "cell_type": "markdown",
   "metadata": {},
   "source": [
    "En este punto, todos los metadatos se han cargado en la memoria, pero no se ha cargado ninguno de los datos de energía. Este es nuestro primer encuentro con una diferencia fundamental entre NILMTK v0.1 y v0.2 +: NILMTK v0.1 solía cargar con entusiasmo todo el conjunto de datos en la memoria antes de que usted hiciera ningún trabajo real en los datos. ¡NILMTK v0.2 + es perezoso! No cargará datos en la memoria hasta que le diga lo que quiere hacer con los datos (e, incluso entonces, se cargarán grandes conjuntos de datos en fragmentos que quepan en la memoria). Esto permite que NILMTK v0.2 + funcione con conjuntos de datos arbitrariamente grandes (conjuntos de datos demasiado grandes para caber en la memoria) sin obstruir su sistema."
   ]
  },
  {
   "cell_type": "markdown",
   "metadata": {},
   "source": [
    "### Explorando el `DataSet` object"
   ]
  },
  {
   "cell_type": "markdown",
   "metadata": {},
   "source": [
    "Echemos un vistazo rápido para ver qué hay en este objeto `redd` ...\n",
    "\n",
    "Hay muchos metadatos asociados con el conjunto de datos, incluida información sobre los dos modelos de dispositivo de medición que los autores utilizaron para registrar REDD:"
   ]
  },
  {
   "cell_type": "code",
   "execution_count": 3,
   "metadata": {},
   "outputs": [
    {
     "data": {
      "text/html": [
       "<ul><li><strong>name</strong>: DSUAL</li><li><strong>long_name</strong>: The Reference Energy Disaggregation Data set of the ALmeria University</li><li><strong>creators</strong>: crn56</li><li><strong>publication_date</strong>: 2021</li><li><strong>institution</strong>: None</li><li><strong>contact</strong>: crn565@inlumine.ual.es</li><li><strong>description</strong>: None</li><li><strong>subject</strong>: Disaggregated power demand from domestic buildings.</li><li><strong>number_of_buildings</strong>: 1</li><li><strong>timezone</strong>: UTC</li><li><strong>geo_location</strong>: <ul><li><strong>locality</strong>: Almeria</li><li><strong>country</strong>: ES</li><li><strong>latitude</strong>: 36.83814</li><li><strong>longitude</strong>: -2.45974</li></ul></li><li><strong>related_documents</strong>: None</li><li><strong>meter_devices</strong>: <ul><li><strong>OZM</strong>: <ul><li><strong>model</strong>: OZM</li><li><strong>manufacturer</strong>: ual</li><li><strong>manufacturer_url</strong>: <a href=\"https://openzmeter.com/\">https://openzmeter.com/</a></li><li><strong>description</strong>: Multifunction meter for feeders</li><li><strong>sample_period</strong>: 60</li><li><strong>max_sample_period</strong>: 300</li><li><strong>measurements</strong>: <ul><li>{'physical_quantity': 'power', 'type': 'active', 'upper_limit': 10000, 'lower_limit': 0}</li><li>{'physical_quantity': 'power', 'type': 'apparent', 'upper_limit': 10000, 'lower_limit': 0}</li><li>{'physical_quantity': 'power', 'type': 'reactive', 'upper_limit': 10000, 'lower_limit': 0}</li><li>{'physical_quantity': 'frequency', 'type': None, 'upper_limit': 70, 'lower_limit': 0}</li><li>{'physical_quantity': 'voltage', 'type': None, 'upper_limit': 270, 'lower_limit': 0}</li><li>{'physical_quantity': 'power factor', 'type': None, 'upper_limit': 1, 'lower_limit': 0}</li><li>{'physical_quantity': 'current', 'type': None, 'upper_limit': 100, 'lower_limit': 0}</li></ul></li></ul></li></ul></li></ul>"
      ],
      "text/plain": [
       "<IPython.core.display.HTML object>"
      ]
     },
     "metadata": {},
     "output_type": "display_data"
    }
   ],
   "source": [
    "print_dict(redd.metadata)"
   ]
  },
  {
   "cell_type": "markdown",
   "metadata": {},
   "source": [
    "También tenemos todos los edificios disponibles como [OrderedDict] (https://docs.python.org/2/library/collections.html#collections.OrderedDict) (indexados desde 1 y no 0 porque cada conjunto de datos que conocemos comienza a numerar edificios de 1 no 0"
   ]
  },
  {
   "cell_type": "code",
   "execution_count": 4,
   "metadata": {},
   "outputs": [
    {
     "data": {
      "text/html": [
       "<ul><li><strong>1</strong>: Building(instance=1, dataset='DSUAL')</li></ul>"
      ],
      "text/plain": [
       "<IPython.core.display.HTML object>"
      ]
     },
     "metadata": {},
     "output_type": "display_data"
    }
   ],
   "source": [
    "print_dict(redd.buildings)"
   ]
  },
  {
   "cell_type": "markdown",
   "metadata": {},
   "source": [
    "Cada edificio tiene un poco de metadatos asociados (no hay muchos metadatos específicos del edificio en REDD):"
   ]
  },
  {
   "cell_type": "code",
   "execution_count": 5,
   "metadata": {},
   "outputs": [
    {
     "data": {
      "text/html": [
       "<ul><li><strong>instance</strong>: 1</li><li><strong>original_name</strong>: house_1</li><li><strong>dataset</strong>: DSUAL</li></ul>"
      ],
      "text/plain": [
       "<IPython.core.display.HTML object>"
      ]
     },
     "metadata": {},
     "output_type": "display_data"
    }
   ],
   "source": [
    "print_dict(redd.buildings[1].metadata)"
   ]
  },
  {
   "cell_type": "markdown",
   "metadata": {},
   "source": [
    "Cada edificio tiene un atributo elec que es un objeto MeterGroup (¡mucho más sobre ellos pronto!)"
   ]
  },
  {
   "cell_type": "code",
   "execution_count": 6,
   "metadata": {},
   "outputs": [
    {
     "data": {
      "text/plain": [
       "MeterGroup(meters=\n",
       "  ElecMeter(instance=1, building=1, dataset='DSUAL', site_meter, appliances=[])\n",
       "  ElecMeter(instance=2, building=1, dataset='DSUAL', appliances=[Appliance(type='boiler', instance=1)])\n",
       "  ElecMeter(instance=3, building=1, dataset='DSUAL', appliances=[Appliance(type='fan', instance=1)])\n",
       "  ElecMeter(instance=4, building=1, dataset='DSUAL', appliances=[Appliance(type='freezer', instance=1)])\n",
       "  ElecMeter(instance=5, building=1, dataset='DSUAL', appliances=[Appliance(type='television', instance=1)])\n",
       "  ElecMeter(instance=6, building=1, dataset='DSUAL', appliances=[Appliance(type='vacuum cleaner', instance=1)])\n",
       "  ElecMeter(instance=7, building=1, dataset='DSUAL', appliances=[Appliance(type='light', instance=1)])\n",
       ")"
      ]
     },
     "execution_count": 6,
     "metadata": {},
     "output_type": "execute_result"
    }
   ],
   "source": [
    "redd.buildings[1].elec"
   ]
  },
  {
   "cell_type": "markdown",
   "metadata": {},
   "source": [
    "¡Sí, asi es , es aqui donde estan los datos importantes!"
   ]
  },
  {
   "cell_type": "code",
   "execution_count": null,
   "metadata": {},
   "outputs": [],
   "source": []
  },
  {
   "cell_type": "code",
   "execution_count": null,
   "metadata": {},
   "outputs": [],
   "source": []
  },
  {
   "cell_type": "code",
   "execution_count": null,
   "metadata": {},
   "outputs": [],
   "source": []
  },
  {
   "cell_type": "code",
   "execution_count": null,
   "metadata": {},
   "outputs": [],
   "source": []
  },
  {
   "cell_type": "code",
   "execution_count": null,
   "metadata": {},
   "outputs": [],
   "source": []
  }
 ],
 "metadata": {
  "kernelspec": {
   "display_name": "Python 3",
   "language": "python",
   "name": "python3"
  },
  "language_info": {
   "codemirror_mode": {
    "name": "ipython",
    "version": 3
   },
   "file_extension": ".py",
   "mimetype": "text/x-python",
   "name": "python",
   "nbconvert_exporter": "python",
   "pygments_lexer": "ipython3",
   "version": "3.6.13"
  }
 },
 "nbformat": 4,
 "nbformat_minor": 1
}
