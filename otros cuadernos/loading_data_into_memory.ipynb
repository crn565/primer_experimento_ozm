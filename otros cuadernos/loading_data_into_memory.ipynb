{
 "cells": [
  {
   "cell_type": "markdown",
   "metadata": {},
   "source": [
    "## Cargando datos en memoria"
   ]
  },
  {
   "cell_type": "markdown",
   "metadata": {
    "collapsed": true
   },
   "source": [
    "La carga de API es fundamental para muchas operaciones nilmtk y proporciona una gran flexibilidad. Veamos las formas en que podemos cargar datos de un NILMTK DataStore en la memoria. Para ver la gama completa de consultas posibles, usaremos el conjunto de datos [iAWE data set](http://iawe.github.io) (cuyo archivo HDF5 se puede descargar [aqui](https://copy.com/C2sIt1UfDx1mfPlC)).\n",
    "\n",
    "La función de carga devuelve un generador de DataFrames cargado desde el DataStore en función de las condiciones especificadas. Si no se especifican condiciones, se cargan todos los datos de todas las columnas. (Si no ha encontrado generadores de Python, puede que valga la pena leer esta guía rápida de generadores de Python [this quick guide to Python generators](http://stackoverflow.com/a/1756156/732596).)).\n",
    "\n",
    "**NOTA**: Si está en Windows, recuerde evitar las barras diagonales inversas, usar barras inclinadas hacia adelante o usar cadenas sin formato al pasar rutas en Python, p. Ej. uno de los siguientes funcionaría:\n"
   ]
  },
  {
   "cell_type": "markdown",
   "metadata": {},
   "source": [
    "```python\n",
    "iawe = DataSet('c:\\\\data\\\\iawe.h5')\n",
    "iawe = DataSet('c:/data/iawe.h5')\n",
    "iawe = DataSet(r'c:\\data\\iawe.h5')\n",
    "```"
   ]
  },
  {
   "cell_type": "code",
   "execution_count": 1,
   "metadata": {},
   "outputs": [
    {
     "data": {
      "text/plain": [
       "MeterGroup(meters=\n",
       "  ElecMeter(instance=1, building=1, dataset='DSUAL', site_meter, appliances=[])\n",
       "  ElecMeter(instance=2, building=1, dataset='DSUAL', appliances=[Appliance(type='boiler', instance=1)])\n",
       "  ElecMeter(instance=3, building=1, dataset='DSUAL', appliances=[Appliance(type='fan', instance=1)])\n",
       "  ElecMeter(instance=4, building=1, dataset='DSUAL', appliances=[Appliance(type='freezer', instance=1)])\n",
       "  ElecMeter(instance=5, building=1, dataset='DSUAL', appliances=[Appliance(type='television', instance=1)])\n",
       "  ElecMeter(instance=6, building=1, dataset='DSUAL', appliances=[Appliance(type='vacuum cleaner', instance=1)])\n",
       "  ElecMeter(instance=7, building=1, dataset='DSUAL', appliances=[Appliance(type='light', instance=1)])\n",
       ")"
      ]
     },
     "execution_count": 1,
     "metadata": {},
     "output_type": "execute_result"
    }
   ],
   "source": [
    "from nilmtk import DataSet\n",
    "\n",
    "iawe = DataSet('dsual.h5')\n",
    "elec = iawe.buildings[1].elec\n",
    "elec"
   ]
  },
  {
   "cell_type": "markdown",
   "metadata": {},
   "source": [
    "Veamos qué medidas tenemos para el frigorífico:"
   ]
  },
  {
   "cell_type": "code",
   "execution_count": 2,
   "metadata": {},
   "outputs": [
    {
     "data": {
      "text/plain": [
       "[('frequency', None),\n",
       " ('power', 'active'),\n",
       " ('current', None),\n",
       " ('power factor', None),\n",
       " ('power', 'apparent'),\n",
       " ('power', 'reactive'),\n",
       " ('voltage', None)]"
      ]
     },
     "execution_count": 2,
     "metadata": {},
     "output_type": "execute_result"
    }
   ],
   "source": [
    "fridge = elec['fridge']\n",
    "fridge.available_columns()"
   ]
  },
  {
   "cell_type": "markdown",
   "metadata": {},
   "source": [
    "## Cargando datos"
   ]
  },
  {
   "cell_type": "markdown",
   "metadata": {},
   "source": [
    "### Carga de todas las columnas (por defecto)"
   ]
  },
  {
   "cell_type": "code",
   "execution_count": 3,
   "metadata": {},
   "outputs": [
    {
     "data": {
      "text/html": [
       "<div>\n",
       "<style scoped>\n",
       "    .dataframe tbody tr th:only-of-type {\n",
       "        vertical-align: middle;\n",
       "    }\n",
       "\n",
       "    .dataframe tbody tr th {\n",
       "        vertical-align: top;\n",
       "    }\n",
       "\n",
       "    .dataframe thead tr th {\n",
       "        text-align: left;\n",
       "    }\n",
       "</style>\n",
       "<table border=\"1\" class=\"dataframe\">\n",
       "  <thead>\n",
       "    <tr>\n",
       "      <th>physical_quantity</th>\n",
       "      <th>frequency</th>\n",
       "      <th>power</th>\n",
       "      <th>current</th>\n",
       "      <th colspan=\"2\" halign=\"left\">power</th>\n",
       "      <th>voltage</th>\n",
       "    </tr>\n",
       "    <tr>\n",
       "      <th>type</th>\n",
       "      <th></th>\n",
       "      <th>active</th>\n",
       "      <th></th>\n",
       "      <th>apparent</th>\n",
       "      <th>reactive</th>\n",
       "      <th></th>\n",
       "    </tr>\n",
       "  </thead>\n",
       "  <tbody>\n",
       "    <tr>\n",
       "      <th>2021-11-11 17:49:47+01:00</th>\n",
       "      <td>50.011902</td>\n",
       "      <td>3.020910</td>\n",
       "      <td>0.023590</td>\n",
       "      <td>3.727449</td>\n",
       "      <td>2.183570</td>\n",
       "      <td>238.014008</td>\n",
       "    </tr>\n",
       "    <tr>\n",
       "      <th>2021-11-11 17:49:48+01:00</th>\n",
       "      <td>50.011162</td>\n",
       "      <td>2.813174</td>\n",
       "      <td>0.029873</td>\n",
       "      <td>4.126142</td>\n",
       "      <td>3.014136</td>\n",
       "      <td>238.138992</td>\n",
       "    </tr>\n",
       "    <tr>\n",
       "      <th>2021-11-11 17:49:49+01:00</th>\n",
       "      <td>50.010120</td>\n",
       "      <td>2.804554</td>\n",
       "      <td>0.026298</td>\n",
       "      <td>3.962116</td>\n",
       "      <td>2.796514</td>\n",
       "      <td>238.162201</td>\n",
       "    </tr>\n",
       "    <tr>\n",
       "      <th>2021-11-11 17:49:50+01:00</th>\n",
       "      <td>50.009682</td>\n",
       "      <td>2.941298</td>\n",
       "      <td>0.026703</td>\n",
       "      <td>4.000784</td>\n",
       "      <td>2.705020</td>\n",
       "      <td>238.033401</td>\n",
       "    </tr>\n",
       "    <tr>\n",
       "      <th>2021-11-11 17:49:51+01:00</th>\n",
       "      <td>50.009441</td>\n",
       "      <td>2.854542</td>\n",
       "      <td>0.026253</td>\n",
       "      <td>3.842267</td>\n",
       "      <td>2.557182</td>\n",
       "      <td>238.013199</td>\n",
       "    </tr>\n",
       "  </tbody>\n",
       "</table>\n",
       "</div>"
      ],
      "text/plain": [
       "physical_quantity          frequency     power   current     power            \\\n",
       "type                                    active            apparent  reactive   \n",
       "2021-11-11 17:49:47+01:00  50.011902  3.020910  0.023590  3.727449  2.183570   \n",
       "2021-11-11 17:49:48+01:00  50.011162  2.813174  0.029873  4.126142  3.014136   \n",
       "2021-11-11 17:49:49+01:00  50.010120  2.804554  0.026298  3.962116  2.796514   \n",
       "2021-11-11 17:49:50+01:00  50.009682  2.941298  0.026703  4.000784  2.705020   \n",
       "2021-11-11 17:49:51+01:00  50.009441  2.854542  0.026253  3.842267  2.557182   \n",
       "\n",
       "physical_quantity             voltage  \n",
       "type                                   \n",
       "2021-11-11 17:49:47+01:00  238.014008  \n",
       "2021-11-11 17:49:48+01:00  238.138992  \n",
       "2021-11-11 17:49:49+01:00  238.162201  \n",
       "2021-11-11 17:49:50+01:00  238.033401  \n",
       "2021-11-11 17:49:51+01:00  238.013199  "
      ]
     },
     "execution_count": 3,
     "metadata": {},
     "output_type": "execute_result"
    }
   ],
   "source": [
    "df = next(fridge.load())\n",
    "df.head()"
   ]
  },
  {
   "cell_type": "raw",
   "metadata": {},
   "source": []
  },
  {
   "cell_type": "markdown",
   "metadata": {},
   "source": [
    "### Carga una columna simple de datos de  potencia\n",
    "\n",
    "Usar `fridge.power_series()` que devuelve un generador de objetos pandas.Series unidimensionales, cada uno de los cuales contiene datos de energía utilizando el tipo de CA más 'sensible':"
   ]
  },
  {
   "cell_type": "code",
   "execution_count": 4,
   "metadata": {},
   "outputs": [
    {
     "data": {
      "text/plain": [
       "2021-11-11 17:49:47+01:00    3.020910\n",
       "2021-11-11 17:49:48+01:00    2.813174\n",
       "2021-11-11 17:49:49+01:00    2.804554\n",
       "2021-11-11 17:49:50+01:00    2.941298\n",
       "2021-11-11 17:49:51+01:00    2.854542\n",
       "Name: (power, active), dtype: float32"
      ]
     },
     "execution_count": 4,
     "metadata": {},
     "output_type": "execute_result"
    }
   ],
   "source": [
    "series = next(fridge.power_series())\n",
    "series.head()"
   ]
  },
  {
   "cell_type": "markdown",
   "metadata": {},
   "source": [
    "o, para obtener potencia reactiva:"
   ]
  },
  {
   "cell_type": "code",
   "execution_count": 5,
   "metadata": {},
   "outputs": [
    {
     "data": {
      "text/plain": [
       "2021-11-11 17:49:47+01:00    2.183570\n",
       "2021-11-11 17:49:48+01:00    3.014136\n",
       "2021-11-11 17:49:49+01:00    2.796514\n",
       "2021-11-11 17:49:50+01:00    2.705020\n",
       "2021-11-11 17:49:51+01:00    2.557182\n",
       "Name: (power, reactive), dtype: float32"
      ]
     },
     "execution_count": 5,
     "metadata": {},
     "output_type": "execute_result"
    }
   ],
   "source": [
    "series = next(fridge.power_series(ac_type='reactive'))\n",
    "series.head()"
   ]
  },
  {
   "cell_type": "markdown",
   "metadata": {},
   "source": [
    "### Especificar cantidad_física o tipo de CA"
   ]
  },
  {
   "cell_type": "code",
   "execution_count": 6,
   "metadata": {},
   "outputs": [
    {
     "data": {
      "text/html": [
       "<div>\n",
       "<style scoped>\n",
       "    .dataframe tbody tr th:only-of-type {\n",
       "        vertical-align: middle;\n",
       "    }\n",
       "\n",
       "    .dataframe tbody tr th {\n",
       "        vertical-align: top;\n",
       "    }\n",
       "\n",
       "    .dataframe thead tr th {\n",
       "        text-align: left;\n",
       "    }\n",
       "</style>\n",
       "<table border=\"1\" class=\"dataframe\">\n",
       "  <thead>\n",
       "    <tr>\n",
       "      <th>physical_quantity</th>\n",
       "      <th>power</th>\n",
       "    </tr>\n",
       "    <tr>\n",
       "      <th>type</th>\n",
       "      <th>reactive</th>\n",
       "    </tr>\n",
       "  </thead>\n",
       "  <tbody>\n",
       "    <tr>\n",
       "      <th>2021-11-11 17:49:47+01:00</th>\n",
       "      <td>2.183570</td>\n",
       "    </tr>\n",
       "    <tr>\n",
       "      <th>2021-11-11 17:49:48+01:00</th>\n",
       "      <td>3.014136</td>\n",
       "    </tr>\n",
       "    <tr>\n",
       "      <th>2021-11-11 17:49:49+01:00</th>\n",
       "      <td>2.796514</td>\n",
       "    </tr>\n",
       "    <tr>\n",
       "      <th>2021-11-11 17:49:50+01:00</th>\n",
       "      <td>2.705020</td>\n",
       "    </tr>\n",
       "    <tr>\n",
       "      <th>2021-11-11 17:49:51+01:00</th>\n",
       "      <td>2.557182</td>\n",
       "    </tr>\n",
       "  </tbody>\n",
       "</table>\n",
       "</div>"
      ],
      "text/plain": [
       "physical_quantity             power\n",
       "type                       reactive\n",
       "2021-11-11 17:49:47+01:00  2.183570\n",
       "2021-11-11 17:49:48+01:00  3.014136\n",
       "2021-11-11 17:49:49+01:00  2.796514\n",
       "2021-11-11 17:49:50+01:00  2.705020\n",
       "2021-11-11 17:49:51+01:00  2.557182"
      ]
     },
     "execution_count": 6,
     "metadata": {},
     "output_type": "execute_result"
    }
   ],
   "source": [
    "df = next(fridge.load(physical_quantity='power', ac_type='reactive'))\n",
    "df.head()"
   ]
  },
  {
   "cell_type": "markdown",
   "metadata": {},
   "source": [
    "Para cargar datos de voltaje:"
   ]
  },
  {
   "cell_type": "code",
   "execution_count": 7,
   "metadata": {},
   "outputs": [
    {
     "data": {
      "text/html": [
       "<div>\n",
       "<style scoped>\n",
       "    .dataframe tbody tr th:only-of-type {\n",
       "        vertical-align: middle;\n",
       "    }\n",
       "\n",
       "    .dataframe tbody tr th {\n",
       "        vertical-align: top;\n",
       "    }\n",
       "\n",
       "    .dataframe thead tr th {\n",
       "        text-align: left;\n",
       "    }\n",
       "</style>\n",
       "<table border=\"1\" class=\"dataframe\">\n",
       "  <thead>\n",
       "    <tr>\n",
       "      <th>physical_quantity</th>\n",
       "      <th>voltage</th>\n",
       "    </tr>\n",
       "    <tr>\n",
       "      <th>type</th>\n",
       "      <th></th>\n",
       "    </tr>\n",
       "  </thead>\n",
       "  <tbody>\n",
       "    <tr>\n",
       "      <th>2021-11-11 17:49:47+01:00</th>\n",
       "      <td>238.014008</td>\n",
       "    </tr>\n",
       "    <tr>\n",
       "      <th>2021-11-11 17:49:48+01:00</th>\n",
       "      <td>238.138992</td>\n",
       "    </tr>\n",
       "    <tr>\n",
       "      <th>2021-11-11 17:49:49+01:00</th>\n",
       "      <td>238.162201</td>\n",
       "    </tr>\n",
       "    <tr>\n",
       "      <th>2021-11-11 17:49:50+01:00</th>\n",
       "      <td>238.033401</td>\n",
       "    </tr>\n",
       "    <tr>\n",
       "      <th>2021-11-11 17:49:51+01:00</th>\n",
       "      <td>238.013199</td>\n",
       "    </tr>\n",
       "  </tbody>\n",
       "</table>\n",
       "</div>"
      ],
      "text/plain": [
       "physical_quantity             voltage\n",
       "type                                 \n",
       "2021-11-11 17:49:47+01:00  238.014008\n",
       "2021-11-11 17:49:48+01:00  238.138992\n",
       "2021-11-11 17:49:49+01:00  238.162201\n",
       "2021-11-11 17:49:50+01:00  238.033401\n",
       "2021-11-11 17:49:51+01:00  238.013199"
      ]
     },
     "execution_count": 7,
     "metadata": {},
     "output_type": "execute_result"
    }
   ],
   "source": [
    "df = next(fridge.load(physical_quantity='voltage'))\n",
    "df.head()"
   ]
  },
  {
   "cell_type": "code",
   "execution_count": 8,
   "metadata": {},
   "outputs": [
    {
     "data": {
      "text/html": [
       "<div>\n",
       "<style scoped>\n",
       "    .dataframe tbody tr th:only-of-type {\n",
       "        vertical-align: middle;\n",
       "    }\n",
       "\n",
       "    .dataframe tbody tr th {\n",
       "        vertical-align: top;\n",
       "    }\n",
       "\n",
       "    .dataframe thead tr th {\n",
       "        text-align: left;\n",
       "    }\n",
       "</style>\n",
       "<table border=\"1\" class=\"dataframe\">\n",
       "  <thead>\n",
       "    <tr>\n",
       "      <th>physical_quantity</th>\n",
       "      <th colspan=\"3\" halign=\"left\">power</th>\n",
       "    </tr>\n",
       "    <tr>\n",
       "      <th>type</th>\n",
       "      <th>active</th>\n",
       "      <th>apparent</th>\n",
       "      <th>reactive</th>\n",
       "    </tr>\n",
       "  </thead>\n",
       "  <tbody>\n",
       "    <tr>\n",
       "      <th>2021-11-11 17:49:47+01:00</th>\n",
       "      <td>3.020910</td>\n",
       "      <td>3.727449</td>\n",
       "      <td>2.183570</td>\n",
       "    </tr>\n",
       "    <tr>\n",
       "      <th>2021-11-11 17:49:48+01:00</th>\n",
       "      <td>2.813174</td>\n",
       "      <td>4.126142</td>\n",
       "      <td>3.014136</td>\n",
       "    </tr>\n",
       "    <tr>\n",
       "      <th>2021-11-11 17:49:49+01:00</th>\n",
       "      <td>2.804554</td>\n",
       "      <td>3.962116</td>\n",
       "      <td>2.796514</td>\n",
       "    </tr>\n",
       "    <tr>\n",
       "      <th>2021-11-11 17:49:50+01:00</th>\n",
       "      <td>2.941298</td>\n",
       "      <td>4.000784</td>\n",
       "      <td>2.705020</td>\n",
       "    </tr>\n",
       "    <tr>\n",
       "      <th>2021-11-11 17:49:51+01:00</th>\n",
       "      <td>2.854542</td>\n",
       "      <td>3.842267</td>\n",
       "      <td>2.557182</td>\n",
       "    </tr>\n",
       "  </tbody>\n",
       "</table>\n",
       "</div>"
      ],
      "text/plain": [
       "physical_quantity             power                    \n",
       "type                         active  apparent  reactive\n",
       "2021-11-11 17:49:47+01:00  3.020910  3.727449  2.183570\n",
       "2021-11-11 17:49:48+01:00  2.813174  4.126142  3.014136\n",
       "2021-11-11 17:49:49+01:00  2.804554  3.962116  2.796514\n",
       "2021-11-11 17:49:50+01:00  2.941298  4.000784  2.705020\n",
       "2021-11-11 17:49:51+01:00  2.854542  3.842267  2.557182"
      ]
     },
     "execution_count": 8,
     "metadata": {},
     "output_type": "execute_result"
    }
   ],
   "source": [
    "df = next(fridge.load(physical_quantity = 'power'))\n",
    "df.head()"
   ]
  },
  {
   "cell_type": "markdown",
   "metadata": {},
   "source": [
    "### Cargando especificando el tipo de CA"
   ]
  },
  {
   "cell_type": "code",
   "execution_count": 9,
   "metadata": {},
   "outputs": [
    {
     "data": {
      "text/html": [
       "<div>\n",
       "<style scoped>\n",
       "    .dataframe tbody tr th:only-of-type {\n",
       "        vertical-align: middle;\n",
       "    }\n",
       "\n",
       "    .dataframe tbody tr th {\n",
       "        vertical-align: top;\n",
       "    }\n",
       "\n",
       "    .dataframe thead tr th {\n",
       "        text-align: left;\n",
       "    }\n",
       "</style>\n",
       "<table border=\"1\" class=\"dataframe\">\n",
       "  <thead>\n",
       "    <tr>\n",
       "      <th>physical_quantity</th>\n",
       "      <th>power</th>\n",
       "    </tr>\n",
       "    <tr>\n",
       "      <th>type</th>\n",
       "      <th>active</th>\n",
       "    </tr>\n",
       "  </thead>\n",
       "  <tbody>\n",
       "    <tr>\n",
       "      <th>2021-11-11 17:49:47+01:00</th>\n",
       "      <td>3.020910</td>\n",
       "    </tr>\n",
       "    <tr>\n",
       "      <th>2021-11-11 17:49:48+01:00</th>\n",
       "      <td>2.813174</td>\n",
       "    </tr>\n",
       "    <tr>\n",
       "      <th>2021-11-11 17:49:49+01:00</th>\n",
       "      <td>2.804554</td>\n",
       "    </tr>\n",
       "    <tr>\n",
       "      <th>2021-11-11 17:49:50+01:00</th>\n",
       "      <td>2.941298</td>\n",
       "    </tr>\n",
       "    <tr>\n",
       "      <th>2021-11-11 17:49:51+01:00</th>\n",
       "      <td>2.854542</td>\n",
       "    </tr>\n",
       "  </tbody>\n",
       "</table>\n",
       "</div>"
      ],
      "text/plain": [
       "physical_quantity             power\n",
       "type                         active\n",
       "2021-11-11 17:49:47+01:00  3.020910\n",
       "2021-11-11 17:49:48+01:00  2.813174\n",
       "2021-11-11 17:49:49+01:00  2.804554\n",
       "2021-11-11 17:49:50+01:00  2.941298\n",
       "2021-11-11 17:49:51+01:00  2.854542"
      ]
     },
     "execution_count": 9,
     "metadata": {},
     "output_type": "execute_result"
    }
   ],
   "source": [
    "df = next(fridge.load(ac_type='active'))\n",
    "df.head()"
   ]
  },
  {
   "cell_type": "markdown",
   "metadata": {},
   "source": [
    "### Cargando por remuestreo a un período específico"
   ]
  },
  {
   "cell_type": "code",
   "execution_count": 10,
   "metadata": {},
   "outputs": [
    {
     "data": {
      "text/html": [
       "<div>\n",
       "<style scoped>\n",
       "    .dataframe tbody tr th:only-of-type {\n",
       "        vertical-align: middle;\n",
       "    }\n",
       "\n",
       "    .dataframe tbody tr th {\n",
       "        vertical-align: top;\n",
       "    }\n",
       "\n",
       "    .dataframe thead tr th {\n",
       "        text-align: left;\n",
       "    }\n",
       "</style>\n",
       "<table border=\"1\" class=\"dataframe\">\n",
       "  <thead>\n",
       "    <tr>\n",
       "      <th>physical_quantity</th>\n",
       "      <th>power</th>\n",
       "    </tr>\n",
       "    <tr>\n",
       "      <th>type</th>\n",
       "      <th>active</th>\n",
       "    </tr>\n",
       "  </thead>\n",
       "  <tbody>\n",
       "    <tr>\n",
       "      <th>2021-11-11 17:49:00+01:00</th>\n",
       "      <td>26.569918</td>\n",
       "    </tr>\n",
       "    <tr>\n",
       "      <th>2021-11-11 17:50:00+01:00</th>\n",
       "      <td>49.535671</td>\n",
       "    </tr>\n",
       "    <tr>\n",
       "      <th>2021-11-11 17:51:00+01:00</th>\n",
       "      <td>45.595875</td>\n",
       "    </tr>\n",
       "    <tr>\n",
       "      <th>2021-11-11 17:52:00+01:00</th>\n",
       "      <td>44.999367</td>\n",
       "    </tr>\n",
       "    <tr>\n",
       "      <th>2021-11-11 17:53:00+01:00</th>\n",
       "      <td>44.706043</td>\n",
       "    </tr>\n",
       "  </tbody>\n",
       "</table>\n",
       "</div>"
      ],
      "text/plain": [
       "physical_quantity              power\n",
       "type                          active\n",
       "2021-11-11 17:49:00+01:00  26.569918\n",
       "2021-11-11 17:50:00+01:00  49.535671\n",
       "2021-11-11 17:51:00+01:00  45.595875\n",
       "2021-11-11 17:52:00+01:00  44.999367\n",
       "2021-11-11 17:53:00+01:00  44.706043"
      ]
     },
     "execution_count": 10,
     "metadata": {},
     "output_type": "execute_result"
    }
   ],
   "source": [
    "# resample por minutos (i.e. con un simple periodo de  60 secs)\n",
    "df = next(fridge.load(ac_type='active', sample_period=60))\n",
    "df.head()"
   ]
  },
  {
   "cell_type": "code",
   "execution_count": null,
   "metadata": {},
   "outputs": [],
   "source": []
  },
  {
   "cell_type": "code",
   "execution_count": null,
   "metadata": {},
   "outputs": [],
   "source": []
  }
 ],
 "metadata": {
  "kernelspec": {
   "display_name": "Python 3",
   "language": "python",
   "name": "python3"
  },
  "language_info": {
   "codemirror_mode": {
    "name": "ipython",
    "version": 3
   },
   "file_extension": ".py",
   "mimetype": "text/x-python",
   "name": "python",
   "nbconvert_exporter": "python",
   "pygments_lexer": "ipython3",
   "version": "3.6.13"
  }
 },
 "nbformat": 4,
 "nbformat_minor": 1
}
