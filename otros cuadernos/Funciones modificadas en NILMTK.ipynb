{
 "cells": [
  {
   "cell_type": "markdown",
   "metadata": {},
   "source": [
    "## metergroup.py"
   ]
  },
  {
   "cell_type": "markdown",
   "metadata": {},
   "source": [
    "### draw_wiring_graph_2\n",
    "Esta función presenta problemas con Matplotlib 3.3.0 (por defecto en NILMTK), por lo que se recomienda reemplazarla por versiones 3.1.x en caso de usarla (fuente: https://github.com/nilmtk/nilmtk/issues/868).\n",
    "\n",
    "Se ha modificado la función original para poder graficar correctamente las etiquetas, dando paso a `draw_wiring_graph_2`"
   ]
  },
  {
   "cell_type": "code",
   "execution_count": null,
   "metadata": {},
   "outputs": [],
   "source": [
    "    def draw_wiring_graph_2(self, show_meter_labels=True):\n",
    "        graph = self.wiring_graph()\n",
    "        \n",
    "        try:\n",
    "            # Try using graphviz layout...\n",
    "            pos = nx.drawing.nx_agraph.graphviz_layout(graph, prog='dot')\n",
    "            used_graphviz = True\n",
    "        except:\n",
    "            # ...and fallback to shell layout if graphviz is not installed or\n",
    "            # doesn't work\n",
    "            pos = nx.shell_layout(graph)\n",
    "            used_graphviz = False\n",
    "            \n",
    "        meter_labels = {}\n",
    "        if show_meter_labels:\n",
    "            meter_labels = {meter: meter.label() for meter in graph.nodes()}\n",
    "            for meter, name in meter_labels.items():\n",
    "                x, y = pos[meter]\n",
    "\n",
    "                if used_graphviz:\n",
    "                    if meter.is_site_meter():\n",
    "                        delta_y = 5\n",
    "                    else:\n",
    "                        delta_y = -5\n",
    "                    \n",
    "                    plt.text(x, y + delta_y, s=name, bbox=dict(facecolor='red', alpha=0.5), horizontalalignment='center')\n",
    "       "
   ]
  },
  {
   "cell_type": "markdown",
   "metadata": {},
   "source": [
    "### proportion_of_energy_submetered_2\n",
    "Proporción de energía submedida respecto a la medición agregada.\n",
    "\n",
    "Se ha modificado la función original para poder graficar correctamente las etiquetas, dando paso a `proportion_of_energy_submetered_2` en donde se pueden especificar por separado el medidor principal y los submedidores."
   ]
  },
  {
   "cell_type": "code",
   "execution_count": null,
   "metadata": {},
   "outputs": [],
   "source": [
    "    def proportion_of_energy_submetered_2(self, mains, downstream_meters,**loader_kwargs):\n",
    "        \"\"\"\n",
    "        Returns\n",
    "        -------\n",
    "        float [0,1] or NaN if mains total_energy == 0\n",
    "        \"\"\"\n",
    "        print(\"Running MeterGroup.proportion_of_energy_submetered...\")\n",
    "        #mains = self.mains() #\n",
    "        #downstream_meters = self.meters_directly_downstream_of_mains() #\n",
    "        proportion = 0.0\n",
    "        verbose = loader_kwargs.get('verbose')\n",
    "        all_nan = True\n",
    "        for m in downstream_meters.meters:\n",
    "            if verbose:\n",
    "                print(\"Calculating proportion for\", m)\n",
    "            prop = m.proportion_of_energy(mains, **loader_kwargs)\n",
    "            if not np.isnan(prop):\n",
    "                proportion += prop\n",
    "                all_nan = False\n",
    "            if verbose:\n",
    "                print(\"   {:.2%}\".format(prop))\n",
    "        \n",
    "        if all_nan:\n",
    "            proportion = np.NaN\n",
    "        return proportion"
   ]
  },
  {
   "cell_type": "markdown",
   "metadata": {},
   "source": [
    "### fraction_per_meter_2\n",
    "Fracción de energía submedida respecto a la medición agregada.\n",
    "\n",
    "Se ha modificado la función original para poder obtener la fracción de energía no submedida ('others'), dando paso a `fraction_per_meter_2`."
   ]
  },
  {
   "cell_type": "code",
   "execution_count": null,
   "metadata": {},
   "outputs": [],
   "source": [
    "    def fraction_per_meter_2(self, **load_kwargs):\n",
    "        \"\"\"Fraction of energy per meter.\n",
    "\n",
    "        Return pd.Series.  Index is meter.instance.  \n",
    "        Each value is a float in the range [0,1].\n",
    "        \"\"\"\n",
    "        energy_per_meter = self.submeters().energy_per_meter(**load_kwargs).max()\n",
    "        mains_energy = self.mains().total_energy(**load_kwargs).max()\n",
    "        t_energy = energy_per_meter.sum()\n",
    "        energy_per_meter=energy_per_meter.append(pd.Series(mains_energy-t_energy, index=['others']))\n",
    "        \n",
    "        return energy_per_meter / mains_energy"
   ]
  }
 ],
 "metadata": {
  "kernelspec": {
   "display_name": "Python 3",
   "language": "python",
   "name": "python3"
  },
  "language_info": {
   "codemirror_mode": {
    "name": "ipython",
    "version": 3
   },
   "file_extension": ".py",
   "mimetype": "text/x-python",
   "name": "python",
   "nbconvert_exporter": "python",
   "pygments_lexer": "ipython3",
   "version": "3.6.13"
  }
 },
 "nbformat": 4,
 "nbformat_minor": 4
}
